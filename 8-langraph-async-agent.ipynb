{
 "cells": [
  {
   "cell_type": "markdown",
   "metadata": {},
   "source": []
  },
  {
   "cell_type": "markdown",
   "metadata": {},
   "source": [
    "## 1. Setting Up the Environment\n",
    "\n",
    "Before we dive into building our agent, we need to set up the necessary environment. This involves installing required packages and ensuring our Python environment is ready for development."
   ]
  },
  {
   "cell_type": "code",
   "execution_count": 8,
   "metadata": {},
   "outputs": [
    {
     "name": "stdout",
     "output_type": "stream",
     "text": [
      "Requirement already satisfied: termcolor in ./.conda/lib/python3.11/site-packages (2.4.0)\n",
      "Requirement already satisfied: langgraph in ./.conda/lib/python3.11/site-packages (0.1.15)\n",
      "Requirement already satisfied: langchain-core<0.3,>=0.2.22 in ./.conda/lib/python3.11/site-packages (from langgraph) (0.2.23)\n",
      "Requirement already satisfied: PyYAML>=5.3 in ./.conda/lib/python3.11/site-packages (from langchain-core<0.3,>=0.2.22->langgraph) (6.0.1)\n",
      "Requirement already satisfied: jsonpatch<2.0,>=1.33 in ./.conda/lib/python3.11/site-packages (from langchain-core<0.3,>=0.2.22->langgraph) (1.33)\n",
      "Requirement already satisfied: langsmith<0.2.0,>=0.1.75 in ./.conda/lib/python3.11/site-packages (from langchain-core<0.3,>=0.2.22->langgraph) (0.1.93)\n",
      "Requirement already satisfied: packaging<25,>=23.2 in ./.conda/lib/python3.11/site-packages (from langchain-core<0.3,>=0.2.22->langgraph) (24.1)\n",
      "Requirement already satisfied: pydantic<3,>=1 in ./.conda/lib/python3.11/site-packages (from langchain-core<0.3,>=0.2.22->langgraph) (2.8.2)\n",
      "Requirement already satisfied: tenacity!=8.4.0,<9.0.0,>=8.1.0 in ./.conda/lib/python3.11/site-packages (from langchain-core<0.3,>=0.2.22->langgraph) (8.5.0)\n",
      "Requirement already satisfied: jsonpointer>=1.9 in ./.conda/lib/python3.11/site-packages (from jsonpatch<2.0,>=1.33->langchain-core<0.3,>=0.2.22->langgraph) (3.0.0)\n",
      "Requirement already satisfied: orjson<4.0.0,>=3.9.14 in ./.conda/lib/python3.11/site-packages (from langsmith<0.2.0,>=0.1.75->langchain-core<0.3,>=0.2.22->langgraph) (3.10.6)\n",
      "Requirement already satisfied: requests<3,>=2 in ./.conda/lib/python3.11/site-packages (from langsmith<0.2.0,>=0.1.75->langchain-core<0.3,>=0.2.22->langgraph) (2.32.3)\n",
      "Requirement already satisfied: annotated-types>=0.4.0 in ./.conda/lib/python3.11/site-packages (from pydantic<3,>=1->langchain-core<0.3,>=0.2.22->langgraph) (0.7.0)\n",
      "Requirement already satisfied: pydantic-core==2.20.1 in ./.conda/lib/python3.11/site-packages (from pydantic<3,>=1->langchain-core<0.3,>=0.2.22->langgraph) (2.20.1)\n",
      "Requirement already satisfied: typing-extensions>=4.6.1 in ./.conda/lib/python3.11/site-packages (from pydantic<3,>=1->langchain-core<0.3,>=0.2.22->langgraph) (4.12.2)\n",
      "Requirement already satisfied: charset-normalizer<4,>=2 in ./.conda/lib/python3.11/site-packages (from requests<3,>=2->langsmith<0.2.0,>=0.1.75->langchain-core<0.3,>=0.2.22->langgraph) (3.3.2)\n",
      "Requirement already satisfied: idna<4,>=2.5 in ./.conda/lib/python3.11/site-packages (from requests<3,>=2->langsmith<0.2.0,>=0.1.75->langchain-core<0.3,>=0.2.22->langgraph) (3.7)\n",
      "Requirement already satisfied: urllib3<3,>=1.21.1 in ./.conda/lib/python3.11/site-packages (from requests<3,>=2->langsmith<0.2.0,>=0.1.75->langchain-core<0.3,>=0.2.22->langgraph) (2.2.2)\n",
      "Requirement already satisfied: certifi>=2017.4.17 in ./.conda/lib/python3.11/site-packages (from requests<3,>=2->langsmith<0.2.0,>=0.1.75->langchain-core<0.3,>=0.2.22->langgraph) (2024.7.4)\n",
      "Note: you may need to restart the kernel to use updated packages.\n"
     ]
    }
   ],
   "source": [
    "# Install termcolor for colored terminal outputs\n",
    "%pip install termcolor langgraph"
   ]
  },
  {
   "cell_type": "code",
   "execution_count": 9,
   "metadata": {},
   "outputs": [],
   "source": [
    "# Import necessary libraries\n",
    "from langgraph.graph.message import add_messages\n",
    "from typing import TypedDict, Annotated\n",
    "from termcolor import colored"
   ]
  },
  {
   "cell_type": "code",
   "execution_count": 10,
   "metadata": {},
   "outputs": [],
   "source": [
    "# Define the state object for the agent graph\n",
    "class AgentGraphState(TypedDict):\n",
    "    start_chain: Annotated[list, add_messages]\n",
    "    transcription_response: Annotated[list, add_messages]\n",
    "    end_chain: Annotated[list, add_messages]\n",
    "\n",
    "# Function to retrieve specific parts of the agent state\n",
    "def get_agent_graph_state(state: AgentGraphState, state_key: str):\n",
    "\n",
    "    if state_key == \"transcription_all\":\n",
    "        return state[\"transcription_response\"]\n",
    "    elif state_key == \"transcription_latest\":\n",
    "        return state[\"transcription_response\"][-1]if state[\"transcription_response\"] else []\n",
    "\n",
    "    else:\n",
    "        return None\n",
    "\n",
    "# Initial state setup\n",
    "state = {\n",
    "    \"start_chain\": [],\n",
    "    \"transcription_response\": [],\n",
    "    \"end_chain\": [],\n",
    "}"
   ]
  },
  {
   "cell_type": "code",
   "execution_count": 11,
   "metadata": {},
   "outputs": [],
   "source": [
    "import asyncio\n",
    "\n",
    "class TranscriptAgent:\n",
    "\n",
    "    def __init__(self, state: AgentGraphState, words: list):\n",
    "        self.state = state\n",
    "        self.words = words\n",
    "\n",
    "    async def invoke(self):\n",
    "        for word in self.words:\n",
    "            await asyncio.sleep(5)  # Simulate async operation\n",
    "            print(colored(f\"TRANSCRIPT_AGENT 📝: Processing word '{word}'\", \"cyan\"))\n",
    "            self.state[\"transcription_response\"].append(word)\n",
    "            yield self.state\n",
    "\n",
    "        print(colored(f\"TRANSCRIPT_AGENT 📝: END CHAIN\", \"green\"))\n",
    "        self.state[\"end_chain\"].append(\"END\")\n",
    "        yield self.state"
   ]
  },
  {
   "cell_type": "code",
   "execution_count": 12,
   "metadata": {},
   "outputs": [],
   "source": [
    "from langgraph.graph import START, END, StateGraph\n",
    "\n",
    "async def text_node_function(state):\n",
    "    agent = TranscriptAgent(\n",
    "        state=state, words=[\"hello\", \"world\", \"this\", \"is\", \"a\", \"test\"]\n",
    "    )\n",
    "    async for new_state in agent.invoke():\n",
    "        yield new_state\n",
    "\n",
    "\n",
    "def create_graph() -> StateGraph:\n",
    "    graph = StateGraph(AgentGraphState)\n",
    "\n",
    "    graph.add_node(\"text_node\", text_node_function)\n",
    "\n",
    "    # Define the flow of the graph\n",
    "    graph.add_edge(START, \"text_node\")\n",
    "    graph.add_edge(\"text_node\", END)\n",
    "\n",
    "    return graph\n",
    "\n",
    "def compile_workflow(graph: StateGraph):\n",
    "    workflow = graph.compile()\n",
    "    return workflow"
   ]
  },
  {
   "cell_type": "code",
   "execution_count": 13,
   "metadata": {},
   "outputs": [
    {
     "name": "stdout",
     "output_type": "stream",
     "text": [
      "Graph and workflow created.\n",
      "\u001b[35m{'event': 'on_chain_start', 'data': {'input': {'start_chain': 'start'}}, 'name': 'LangGraph', 'tags': [], 'run_id': 'b47f9ba7-890b-4d1f-8f1e-849fa1cf746c', 'metadata': {}, 'parent_ids': []}\u001b[0m\n",
      "\u001b[35m{'event': 'on_chain_start', 'data': {'input': {'start_chain': 'start'}}, 'name': '__start__', 'tags': ['graph:step:0', 'langsmith:hidden'], 'run_id': '9f4f6f80-a817-4325-843d-4dac1a817538', 'metadata': {'langgraph_step': 0, 'langgraph_node': '__start__', 'langgraph_triggers': ['__start__'], 'langgraph_task_idx': 0, 'thread_ts': '1ef50d48-b956-6b26-bffe-851edb016b6a'}, 'parent_ids': ['b47f9ba7-890b-4d1f-8f1e-849fa1cf746c']}\u001b[0m\n",
      "\u001b[35m{'event': 'on_chain_end', 'data': {'output': {'start_chain': 'start'}, 'input': {'start_chain': 'start'}}, 'run_id': '9f4f6f80-a817-4325-843d-4dac1a817538', 'name': '__start__', 'tags': ['graph:step:0', 'langsmith:hidden'], 'metadata': {'langgraph_step': 0, 'langgraph_node': '__start__', 'langgraph_triggers': ['__start__'], 'langgraph_task_idx': 0, 'thread_ts': '1ef50d48-b956-6b26-bffe-851edb016b6a'}, 'parent_ids': ['b47f9ba7-890b-4d1f-8f1e-849fa1cf746c']}\u001b[0m\n",
      "\u001b[35m{'event': 'on_chain_start', 'data': {}, 'name': 'text_node', 'tags': ['graph:step:1'], 'run_id': 'f89c7864-8288-4884-baf2-dec9f92f2585', 'metadata': {'langgraph_step': 1, 'langgraph_node': 'text_node', 'langgraph_triggers': ['start:text_node'], 'langgraph_task_idx': 0, 'thread_ts': '1ef50d48-b956-6b26-bffe-851edb016b6a'}, 'parent_ids': ['b47f9ba7-890b-4d1f-8f1e-849fa1cf746c']}\u001b[0m\n",
      "\u001b[35m{'event': 'on_chain_start', 'data': {}, 'name': 'text_node', 'tags': ['seq:step:1'], 'run_id': '65658bbe-558a-476b-b5fc-3fe9200ef29d', 'metadata': {'langgraph_step': 1, 'langgraph_node': 'text_node', 'langgraph_triggers': ['start:text_node'], 'langgraph_task_idx': 0, 'thread_ts': '1ef50d48-b956-6b26-bffe-851edb016b6a'}, 'parent_ids': ['b47f9ba7-890b-4d1f-8f1e-849fa1cf746c', 'f89c7864-8288-4884-baf2-dec9f92f2585']}\u001b[0m\n",
      "\u001b[36mTRANSCRIPT_AGENT 📝: Processing word 'hello'\u001b[0m\n",
      "\u001b[35m{'event': 'on_chain_stream', 'run_id': '65658bbe-558a-476b-b5fc-3fe9200ef29d', 'name': 'text_node', 'tags': ['seq:step:1'], 'metadata': {'langgraph_step': 1, 'langgraph_node': 'text_node', 'langgraph_triggers': ['start:text_node'], 'langgraph_task_idx': 0, 'thread_ts': '1ef50d48-b956-6b26-bffe-851edb016b6a'}, 'data': {'chunk': {'start_chain': [HumanMessage(content='start', id='ab6c4bd6-f802-44b8-bd5d-3c15682607a7')], 'transcription_response': ['hello'], 'end_chain': []}}, 'parent_ids': ['b47f9ba7-890b-4d1f-8f1e-849fa1cf746c', 'f89c7864-8288-4884-baf2-dec9f92f2585']}\u001b[0m\n",
      "\u001b[36mTRANSCRIPT_AGENT 📝: Processing word 'world'\u001b[0m\n",
      "\u001b[35m{'event': 'on_chain_stream', 'run_id': '65658bbe-558a-476b-b5fc-3fe9200ef29d', 'name': 'text_node', 'tags': ['seq:step:1'], 'metadata': {'langgraph_step': 1, 'langgraph_node': 'text_node', 'langgraph_triggers': ['start:text_node'], 'langgraph_task_idx': 0, 'thread_ts': '1ef50d48-b956-6b26-bffe-851edb016b6a'}, 'data': {'chunk': {'start_chain': [HumanMessage(content='start', id='ab6c4bd6-f802-44b8-bd5d-3c15682607a7')], 'transcription_response': ['hello', 'world'], 'end_chain': []}}, 'parent_ids': ['b47f9ba7-890b-4d1f-8f1e-849fa1cf746c', 'f89c7864-8288-4884-baf2-dec9f92f2585']}\u001b[0m\n",
      "\u001b[36mTRANSCRIPT_AGENT 📝: Processing word 'this'\u001b[0m\n",
      "\u001b[35m{'event': 'on_chain_stream', 'run_id': '65658bbe-558a-476b-b5fc-3fe9200ef29d', 'name': 'text_node', 'tags': ['seq:step:1'], 'metadata': {'langgraph_step': 1, 'langgraph_node': 'text_node', 'langgraph_triggers': ['start:text_node'], 'langgraph_task_idx': 0, 'thread_ts': '1ef50d48-b956-6b26-bffe-851edb016b6a'}, 'data': {'chunk': {'start_chain': [HumanMessage(content='start', id='ab6c4bd6-f802-44b8-bd5d-3c15682607a7')], 'transcription_response': ['hello', 'world', 'this'], 'end_chain': []}}, 'parent_ids': ['b47f9ba7-890b-4d1f-8f1e-849fa1cf746c', 'f89c7864-8288-4884-baf2-dec9f92f2585']}\u001b[0m\n",
      "\u001b[36mTRANSCRIPT_AGENT 📝: Processing word 'is'\u001b[0m\n",
      "\u001b[35m{'event': 'on_chain_stream', 'run_id': '65658bbe-558a-476b-b5fc-3fe9200ef29d', 'name': 'text_node', 'tags': ['seq:step:1'], 'metadata': {'langgraph_step': 1, 'langgraph_node': 'text_node', 'langgraph_triggers': ['start:text_node'], 'langgraph_task_idx': 0, 'thread_ts': '1ef50d48-b956-6b26-bffe-851edb016b6a'}, 'data': {'chunk': {'start_chain': [HumanMessage(content='start', id='ab6c4bd6-f802-44b8-bd5d-3c15682607a7')], 'transcription_response': ['hello', 'world', 'this', 'is'], 'end_chain': []}}, 'parent_ids': ['b47f9ba7-890b-4d1f-8f1e-849fa1cf746c', 'f89c7864-8288-4884-baf2-dec9f92f2585']}\u001b[0m\n",
      "\u001b[36mTRANSCRIPT_AGENT 📝: Processing word 'a'\u001b[0m\n",
      "\u001b[35m{'event': 'on_chain_stream', 'run_id': '65658bbe-558a-476b-b5fc-3fe9200ef29d', 'name': 'text_node', 'tags': ['seq:step:1'], 'metadata': {'langgraph_step': 1, 'langgraph_node': 'text_node', 'langgraph_triggers': ['start:text_node'], 'langgraph_task_idx': 0, 'thread_ts': '1ef50d48-b956-6b26-bffe-851edb016b6a'}, 'data': {'chunk': {'start_chain': [HumanMessage(content='start', id='ab6c4bd6-f802-44b8-bd5d-3c15682607a7')], 'transcription_response': ['hello', 'world', 'this', 'is', 'a'], 'end_chain': []}}, 'parent_ids': ['b47f9ba7-890b-4d1f-8f1e-849fa1cf746c', 'f89c7864-8288-4884-baf2-dec9f92f2585']}\u001b[0m\n",
      "\u001b[36mTRANSCRIPT_AGENT 📝: Processing word 'test'\u001b[0m\n",
      "\u001b[35m{'event': 'on_chain_stream', 'run_id': '65658bbe-558a-476b-b5fc-3fe9200ef29d', 'name': 'text_node', 'tags': ['seq:step:1'], 'metadata': {'langgraph_step': 1, 'langgraph_node': 'text_node', 'langgraph_triggers': ['start:text_node'], 'langgraph_task_idx': 0, 'thread_ts': '1ef50d48-b956-6b26-bffe-851edb016b6a'}, 'data': {'chunk': {'start_chain': [HumanMessage(content='start', id='ab6c4bd6-f802-44b8-bd5d-3c15682607a7')], 'transcription_response': ['hello', 'world', 'this', 'is', 'a', 'test'], 'end_chain': []}}, 'parent_ids': ['b47f9ba7-890b-4d1f-8f1e-849fa1cf746c', 'f89c7864-8288-4884-baf2-dec9f92f2585']}\u001b[0m\n",
      "\u001b[32mTRANSCRIPT_AGENT 📝: END CHAIN\u001b[0m\n",
      "\u001b[35m{'event': 'on_chain_stream', 'run_id': '65658bbe-558a-476b-b5fc-3fe9200ef29d', 'name': 'text_node', 'tags': ['seq:step:1'], 'metadata': {'langgraph_step': 1, 'langgraph_node': 'text_node', 'langgraph_triggers': ['start:text_node'], 'langgraph_task_idx': 0, 'thread_ts': '1ef50d48-b956-6b26-bffe-851edb016b6a'}, 'data': {'chunk': {'start_chain': [HumanMessage(content='start', id='ab6c4bd6-f802-44b8-bd5d-3c15682607a7')], 'transcription_response': ['hello', 'world', 'this', 'is', 'a', 'test'], 'end_chain': ['END']}}, 'parent_ids': ['b47f9ba7-890b-4d1f-8f1e-849fa1cf746c', 'f89c7864-8288-4884-baf2-dec9f92f2585']}\u001b[0m\n",
      "\u001b[35m{'event': 'on_chain_end', 'data': {'output': {'start_chain': [HumanMessage(content='start', id='ab6c4bd6-f802-44b8-bd5d-3c15682607a7')], 'transcription_response': ['hello', 'world', 'this', 'is', 'a', 'test'], 'end_chain': ['END']}, 'input': {'start_chain': [HumanMessage(content='start', id='ab6c4bd6-f802-44b8-bd5d-3c15682607a7')], 'transcription_response': ['hello', 'world', 'this', 'is', 'a', 'test'], 'end_chain': ['END']}}, 'run_id': '65658bbe-558a-476b-b5fc-3fe9200ef29d', 'name': 'text_node', 'tags': ['seq:step:1'], 'metadata': {'langgraph_step': 1, 'langgraph_node': 'text_node', 'langgraph_triggers': ['start:text_node'], 'langgraph_task_idx': 0, 'thread_ts': '1ef50d48-b956-6b26-bffe-851edb016b6a'}, 'parent_ids': ['b47f9ba7-890b-4d1f-8f1e-849fa1cf746c', 'f89c7864-8288-4884-baf2-dec9f92f2585']}\u001b[0m\n",
      "\u001b[35m{'event': 'on_chain_start', 'data': {'input': {'start_chain': [HumanMessage(content='start', id='ab6c4bd6-f802-44b8-bd5d-3c15682607a7')], 'transcription_response': ['hello', 'world', 'this', 'is', 'a', 'test'], 'end_chain': ['END']}}, 'name': 'ChannelWrite<text_node,start_chain,transcription_response,end_chain>', 'tags': ['seq:step:2', 'langsmith:hidden'], 'run_id': '466fe709-547b-43c2-af54-4e2b31a6fc2e', 'metadata': {'langgraph_step': 1, 'langgraph_node': 'text_node', 'langgraph_triggers': ['start:text_node'], 'langgraph_task_idx': 0, 'thread_ts': '1ef50d48-b956-6b26-bffe-851edb016b6a'}, 'parent_ids': ['b47f9ba7-890b-4d1f-8f1e-849fa1cf746c', 'f89c7864-8288-4884-baf2-dec9f92f2585']}\u001b[0m\n",
      "\u001b[35m{'event': 'on_chain_end', 'data': {'output': {'start_chain': [HumanMessage(content='start', id='ab6c4bd6-f802-44b8-bd5d-3c15682607a7')], 'transcription_response': ['hello', 'world', 'this', 'is', 'a', 'test'], 'end_chain': ['END']}, 'input': {'start_chain': [HumanMessage(content='start', id='ab6c4bd6-f802-44b8-bd5d-3c15682607a7')], 'transcription_response': ['hello', 'world', 'this', 'is', 'a', 'test'], 'end_chain': ['END']}}, 'run_id': '466fe709-547b-43c2-af54-4e2b31a6fc2e', 'name': 'ChannelWrite<text_node,start_chain,transcription_response,end_chain>', 'tags': ['seq:step:2', 'langsmith:hidden'], 'metadata': {'langgraph_step': 1, 'langgraph_node': 'text_node', 'langgraph_triggers': ['start:text_node'], 'langgraph_task_idx': 0, 'thread_ts': '1ef50d48-b956-6b26-bffe-851edb016b6a'}, 'parent_ids': ['b47f9ba7-890b-4d1f-8f1e-849fa1cf746c', 'f89c7864-8288-4884-baf2-dec9f92f2585']}\u001b[0m\n",
      "\u001b[35m{'event': 'on_chain_stream', 'run_id': 'f89c7864-8288-4884-baf2-dec9f92f2585', 'name': 'text_node', 'tags': ['graph:step:1'], 'metadata': {'langgraph_step': 1, 'langgraph_node': 'text_node', 'langgraph_triggers': ['start:text_node'], 'langgraph_task_idx': 0, 'thread_ts': '1ef50d48-b956-6b26-bffe-851edb016b6a'}, 'data': {'chunk': {'start_chain': [HumanMessage(content='start', id='ab6c4bd6-f802-44b8-bd5d-3c15682607a7')], 'transcription_response': ['hello', 'world', 'this', 'is', 'a', 'test'], 'end_chain': ['END']}}, 'parent_ids': ['b47f9ba7-890b-4d1f-8f1e-849fa1cf746c']}\u001b[0m\n",
      "\u001b[35m{'event': 'on_chain_end', 'data': {'output': {'start_chain': [HumanMessage(content='start', id='ab6c4bd6-f802-44b8-bd5d-3c15682607a7')], 'transcription_response': ['hello', 'world', 'this', 'is', 'a', 'test'], 'end_chain': ['END']}, 'input': {'start_chain': [HumanMessage(content='start', id='ab6c4bd6-f802-44b8-bd5d-3c15682607a7')], 'transcription_response': ['hello', 'world', 'this', 'is', 'a', 'test'], 'end_chain': ['END']}}, 'run_id': 'f89c7864-8288-4884-baf2-dec9f92f2585', 'name': 'text_node', 'tags': ['graph:step:1'], 'metadata': {'langgraph_step': 1, 'langgraph_node': 'text_node', 'langgraph_triggers': ['start:text_node'], 'langgraph_task_idx': 0, 'thread_ts': '1ef50d48-b956-6b26-bffe-851edb016b6a'}, 'parent_ids': ['b47f9ba7-890b-4d1f-8f1e-849fa1cf746c']}\u001b[0m\n",
      "\u001b[35m{'event': 'on_chain_stream', 'run_id': 'b47f9ba7-890b-4d1f-8f1e-849fa1cf746c', 'name': 'LangGraph', 'tags': [], 'metadata': {}, 'data': {'chunk': {'text_node': {'start_chain': [HumanMessage(content='start', id='ab6c4bd6-f802-44b8-bd5d-3c15682607a7')], 'transcription_response': ['hello', 'world', 'this', 'is', 'a', 'test'], 'end_chain': ['END']}}}, 'parent_ids': []}\u001b[0m\n",
      "\u001b[35m{'event': 'on_chain_end', 'data': {'output': {'start_chain': [HumanMessage(content='start', id='ab6c4bd6-f802-44b8-bd5d-3c15682607a7')], 'transcription_response': [HumanMessage(content='hello', id='97d29107-65d2-4362-bc7c-a92175ac6342'), HumanMessage(content='world', id='eb4a1104-4196-46b9-8424-5b0c4eaf849c'), HumanMessage(content='this', id='d3ffc49b-db83-46ee-a245-007131f07230'), HumanMessage(content='is', id='fac476dc-8f1a-483b-937f-f302f5b82318'), HumanMessage(content='a', id='15499a02-a34c-42c4-93b8-68543d5a7998'), HumanMessage(content='test', id='6ed05c96-6dc4-49bd-ba51-c1e570c43527'), HumanMessage(content='hello', id='f13dc9af-5446-44e1-9043-05017b68f442'), HumanMessage(content='world', id='397ff3e1-797d-461f-867f-732d44bdc06c'), HumanMessage(content='this', id='31318181-49a4-4033-8ac7-b2594ec27063'), HumanMessage(content='is', id='ff44527f-6d4e-48e6-9ad2-18dacc87660d'), HumanMessage(content='a', id='7a497458-8663-422b-80e0-dd09094b95d6'), HumanMessage(content='test', id='edf8a557-d250-4225-b85d-092550b06758')], 'end_chain': [HumanMessage(content='END', id='6a667232-a7e2-48a7-9c24-e61fd6756e01'), HumanMessage(content='END', id='0603cf79-a770-4027-8842-d4689e46ac95')]}}, 'run_id': 'b47f9ba7-890b-4d1f-8f1e-849fa1cf746c', 'name': 'LangGraph', 'tags': [], 'metadata': {}, 'parent_ids': []}\u001b[0m\n"
     ]
    }
   ],
   "source": [
    "# Create the graph and compile the workflow\n",
    "graph = create_graph()\n",
    "workflow = compile_workflow(graph)\n",
    "print(\"Graph and workflow created.\")\n",
    "\n",
    "# Define workflow parameters\n",
    "verbose = True\n",
    "dict_inputs = {\"start_chain\": \"start\"}\n",
    "\n",
    "# Execute the workflow and print state changes\n",
    "async for event in workflow.astream_events(dict_inputs, version=\"v2\"):\n",
    "    if verbose:\n",
    "        print(colored(event,\"magenta\"))\n",
    "    else:\n",
    "        print(\"\\n\")"
   ]
  },
  {
   "cell_type": "code",
   "execution_count": 14,
   "metadata": {},
   "outputs": [
    {
     "data": {
      "image/png": "[encoded data removed]",
      "text/plain": [
       "<IPython.core.display.Image object>"
      ]
     },
     "metadata": {},
     "output_type": "display_data"
    }
   ],
   "source": [
    "from IPython.display import Image, display\n",
    "\n",
    "display(Image(workflow.get_graph().draw_png()))"
   ]
  }
 ],
 "metadata": {
  "kernelspec": {
   "display_name": "Python 3",
   "language": "python",
   "name": "python3"
  },
  "language_info": {
   "codemirror_mode": {
    "name": "ipython",
    "version": 3
   },
   "file_extension": ".py",
   "mimetype": "text/x-python",
   "name": "python",
   "nbconvert_exporter": "python",
   "pygments_lexer": "ipython3",
   "version": "3.11.9"
  }
 },
 "nbformat": 4,
 "nbformat_minor": 2
}
