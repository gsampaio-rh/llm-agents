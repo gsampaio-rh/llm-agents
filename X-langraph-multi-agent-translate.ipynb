{
 "cells": [
  {
   "cell_type": "markdown",
   "metadata": {},
   "source": []
  },
  {
   "cell_type": "markdown",
   "metadata": {},
   "source": [
    "## 1. Setting Up the Environment\n",
    "\n",
    "Before we dive into building our agent, we need to set up the necessary environment. This involves installing required packages and ensuring our Python environment is ready for development."
   ]
  },
  {
   "cell_type": "code",
   "execution_count": 52,
   "metadata": {},
   "outputs": [
    {
     "name": "stdout",
     "output_type": "stream",
     "text": [
      "Requirement already satisfied: termcolor in ./.conda/lib/python3.11/site-packages (2.4.0)\n",
      "Requirement already satisfied: langgraph in ./.conda/lib/python3.11/site-packages (0.1.15)\n",
      "Requirement already satisfied: langchain-core<0.3,>=0.2.22 in ./.conda/lib/python3.11/site-packages (from langgraph) (0.2.23)\n",
      "Requirement already satisfied: PyYAML>=5.3 in ./.conda/lib/python3.11/site-packages (from langchain-core<0.3,>=0.2.22->langgraph) (6.0.1)\n",
      "Requirement already satisfied: jsonpatch<2.0,>=1.33 in ./.conda/lib/python3.11/site-packages (from langchain-core<0.3,>=0.2.22->langgraph) (1.33)\n",
      "Requirement already satisfied: langsmith<0.2.0,>=0.1.75 in ./.conda/lib/python3.11/site-packages (from langchain-core<0.3,>=0.2.22->langgraph) (0.1.93)\n",
      "Requirement already satisfied: packaging<25,>=23.2 in ./.conda/lib/python3.11/site-packages (from langchain-core<0.3,>=0.2.22->langgraph) (24.1)\n",
      "Requirement already satisfied: pydantic<3,>=1 in ./.conda/lib/python3.11/site-packages (from langchain-core<0.3,>=0.2.22->langgraph) (2.8.2)\n",
      "Requirement already satisfied: tenacity!=8.4.0,<9.0.0,>=8.1.0 in ./.conda/lib/python3.11/site-packages (from langchain-core<0.3,>=0.2.22->langgraph) (8.5.0)\n",
      "Requirement already satisfied: jsonpointer>=1.9 in ./.conda/lib/python3.11/site-packages (from jsonpatch<2.0,>=1.33->langchain-core<0.3,>=0.2.22->langgraph) (3.0.0)\n",
      "Requirement already satisfied: orjson<4.0.0,>=3.9.14 in ./.conda/lib/python3.11/site-packages (from langsmith<0.2.0,>=0.1.75->langchain-core<0.3,>=0.2.22->langgraph) (3.10.6)\n",
      "Requirement already satisfied: requests<3,>=2 in ./.conda/lib/python3.11/site-packages (from langsmith<0.2.0,>=0.1.75->langchain-core<0.3,>=0.2.22->langgraph) (2.32.3)\n",
      "Requirement already satisfied: annotated-types>=0.4.0 in ./.conda/lib/python3.11/site-packages (from pydantic<3,>=1->langchain-core<0.3,>=0.2.22->langgraph) (0.7.0)\n",
      "Requirement already satisfied: pydantic-core==2.20.1 in ./.conda/lib/python3.11/site-packages (from pydantic<3,>=1->langchain-core<0.3,>=0.2.22->langgraph) (2.20.1)\n",
      "Requirement already satisfied: typing-extensions>=4.6.1 in ./.conda/lib/python3.11/site-packages (from pydantic<3,>=1->langchain-core<0.3,>=0.2.22->langgraph) (4.12.2)\n",
      "Requirement already satisfied: charset-normalizer<4,>=2 in ./.conda/lib/python3.11/site-packages (from requests<3,>=2->langsmith<0.2.0,>=0.1.75->langchain-core<0.3,>=0.2.22->langgraph) (3.3.2)\n",
      "Requirement already satisfied: idna<4,>=2.5 in ./.conda/lib/python3.11/site-packages (from requests<3,>=2->langsmith<0.2.0,>=0.1.75->langchain-core<0.3,>=0.2.22->langgraph) (3.7)\n",
      "Requirement already satisfied: urllib3<3,>=1.21.1 in ./.conda/lib/python3.11/site-packages (from requests<3,>=2->langsmith<0.2.0,>=0.1.75->langchain-core<0.3,>=0.2.22->langgraph) (2.2.2)\n",
      "Requirement already satisfied: certifi>=2017.4.17 in ./.conda/lib/python3.11/site-packages (from requests<3,>=2->langsmith<0.2.0,>=0.1.75->langchain-core<0.3,>=0.2.22->langgraph) (2024.7.4)\n",
      "Note: you may need to restart the kernel to use updated packages.\n"
     ]
    }
   ],
   "source": [
    "# Install termcolor for colored terminal outputs\n",
    "%pip install termcolor langgraph"
   ]
  },
  {
   "cell_type": "code",
   "execution_count": 53,
   "metadata": {},
   "outputs": [],
   "source": [
    "# Import necessary libraries\n",
    "from termcolor import colored\n",
    "from typing import TypedDict, Annotated\n",
    "from langgraph.graph.message import add_messages\n",
    "from datetime import datetime, timezone\n",
    "import time"
   ]
  },
  {
   "cell_type": "markdown",
   "metadata": {},
   "source": [
    "## 3: Defining the Agent Graph State\n",
    "\n",
    "In this step, we define the structure of the state that our agents will use to store and communicate information. This state acts as a shared memory that different components of the system can access and modify. We use the `TypedDict` from the `typing` module to define the expected structure and types of data within the state. This helps ensure consistency and correctness when accessing or updating the state, making it easier to manage complex workflows and data dependencies.\n",
    "\n",
    "The `AgentGraphState` class includes fields for the research question, responses from the planner agent, and any final outputs or end states. The `get_agent_graph`_state function is used to retrieve specific parts of the state based on a key, facilitating modular and reusable access to the state data."
   ]
  },
  {
   "cell_type": "code",
   "execution_count": 54,
   "metadata": {},
   "outputs": [],
   "source": [
    "# Define the state object for the agent graph\n",
    "class AgentGraphState(TypedDict):\n",
    "    start_chain: Annotated[list, add_messages]\n",
    "    transcription_response: Annotated[list, add_messages]\n",
    "    portuguese_response: Annotated[list, add_messages]\n",
    "    spanish_response: Annotated[list, add_messages]\n",
    "    end_chain: Annotated[list, add_messages]\n",
    "\n",
    "# Function to retrieve specific parts of the agent state\n",
    "def get_agent_graph_state(state: AgentGraphState, state_key: str):\n",
    "\n",
    "    if state_key == \"transcription_all\":\n",
    "        return state[\"transcription_response\"]\n",
    "    elif state_key == \"transcription_latest\":\n",
    "        return state[\"transcription_response\"][-1]if state[\"transcription_response\"] else []\n",
    "\n",
    "    if state_key == \"portuguese_all\":\n",
    "        return state[\"portuguese_response\"]\n",
    "    elif state_key == \"portuguese_latest\":\n",
    "        return state[\"portuguese_response\"][-1] if state[\"portuguese_response\"] else []\n",
    "\n",
    "    if state_key == \"spanish_all\":\n",
    "        return state[\"spanish_response\"]\n",
    "    elif state_key == \"spanish_latest\":\n",
    "        return state[\"spanish_response\"][-1] if state[\"spanish_response\"] else []\n",
    "\n",
    "    else:\n",
    "        return None\n",
    "\n",
    "# Initial state setup\n",
    "state = {\n",
    "    \"start_chain\": [],\n",
    "    \"transcription_response\": [],\n",
    "    \"portuguese_response\": [],\n",
    "    \"spanish_response\": [],\n",
    "    \"end_chain\": [],\n",
    "}"
   ]
  },
  {
   "cell_type": "markdown",
   "metadata": {},
   "source": [
    "## 4. Agent Class Definition\n",
    "\n",
    "In this section, we define the `Agent` class, which serves as a base class for different types of agents in our system. An agent is a component that interacts with the language model to perform specific tasks, such as generating responses or processing information. The `Agent` class manages the configuration and state associated with the language model, allowing for easy setup and reuse of model configurations across different agents.\n",
    "\n",
    "The class includes methods for initializing the agent with a specific model configuration and updating the agent's state. The state encapsulates the context or memory of the agent, enabling it to maintain continuity across interactions."
   ]
  },
  {
   "cell_type": "code",
   "execution_count": 55,
   "metadata": {},
   "outputs": [],
   "source": [
    "class Agent:\n",
    "    def __init__(self, state: AgentGraphState):\n",
    "        self.state = state\n",
    "\n",
    "    def update_state(self, key: str, value: any):\n",
    "        if key in self.state:\n",
    "            self.state[key] = value\n",
    "        else:\n",
    "            print(f\"Warning: Attempting to update a non-existing state key '{key}'.\")"
   ]
  },
  {
   "cell_type": "markdown",
   "metadata": {},
   "source": [
    "## 5. Utility Functions\n",
    "\n",
    "Utility functions are auxiliary functions that assist with various common tasks within the notebook. They help keep the codebase clean and modular by encapsulating frequently used logic in separate functions. In this case, we have two utility functions: `check_for_content` and `get_current_utc_datetime`.\n",
    "\n",
    "- `check_for_content`: This function checks if a variable has a content attribute and returns its value if it exists. This is useful for handling different data types that may or may not have a content attribute.\n",
    "- `get_current_utc_datetime`: This function returns the current date and time in UTC format. This can be useful for timestamping events or logging."
   ]
  },
  {
   "cell_type": "code",
   "execution_count": 56,
   "metadata": {},
   "outputs": [],
   "source": [
    "# Get the current date and time in UTC\n",
    "def get_current_utc_datetime():\n",
    "    now_utc = datetime.now(timezone.utc)\n",
    "    return now_utc.strftime(\"%Y-%m-%d %H:%M:%S.%f UTC\")[:-3]  # Truncate to milliseconds"
   ]
  },
  {
   "cell_type": "markdown",
   "metadata": {},
   "source": [
    "## 6. TranscriptAgent"
   ]
  },
  {
   "cell_type": "code",
   "execution_count": 57,
   "metadata": {},
   "outputs": [],
   "source": [
    "import asyncio\n",
    "\n",
    "class TranscriptAgent(Agent):\n",
    "\n",
    "    def __init__(self, state: AgentGraphState, file_path: str):\n",
    "        super().__init__(state)\n",
    "        self.file_path = file_path\n",
    "        self.lines = None\n",
    "\n",
    "    def load_file(self):\n",
    "        if not self.lines:\n",
    "            with open(self.file_path) as f:\n",
    "                self.lines = [line.strip() for line in f]\n",
    "\n",
    "    async def invoke(self) -> dict:\n",
    "        print(\n",
    "            colored(f\"TRANSCRIPT_AGENT  📝: INVOKE\", \"cyan\")\n",
    "        )\n",
    "        if not self.lines:\n",
    "            self.load_file()\n",
    "\n",
    "        current_line_index = 0\n",
    "        while current_line_index < len(self.lines):\n",
    "            print(\n",
    "                colored(\n",
    "                    f\"TRANSCRIPT_AGENT  📝: { self.lines[current_line_index]}\", \"cyan\"\n",
    "                )\n",
    "            )\n",
    "            self.update_state(\n",
    "                \"transcription_response\", self.lines[current_line_index]\n",
    "            )\n",
    "            await asyncio.sleep(4)  # Simulate async operation\n",
    "            current_line_index += 1\n",
    "\n",
    "        if not self.lines:\n",
    "            self.update_state(\"transcription_response\", \"END\")\n",
    "            self.update_state(\"end_chain\", \"END\")\n",
    "\n",
    "        print(\n",
    "            colored(f\"TRANSCRIPT_AGENT  📝: RETURN STATE\", \"cyan\")\n",
    "        )\n",
    "        return self.state"
   ]
  },
  {
   "cell_type": "code",
   "execution_count": 58,
   "metadata": {},
   "outputs": [],
   "source": [
    "class TranslanteAgent(Agent):\n",
    "\n",
    "    def translate(self):\n",
    "        timestamp = get_current_utc_datetime()\n",
    "        print(colored(f\"TRANSLATE_AGENT 🗣️: {timestamp}\", \"yellow\"))\n",
    "\n",
    "    def invoke(\n",
    "        self,\n",
    "    ) -> dict:\n",
    "        print(colored(f\"TRANSLATE_AGENT 🗣️: {self.state}\", \"yellow\"))\n",
    "        return self.state"
   ]
  },
  {
   "cell_type": "code",
   "execution_count": 59,
   "metadata": {},
   "outputs": [],
   "source": [
    "async def should_continue(state: AgentGraphState):\n",
    "    print(colored(f\"Recording has finished\", \"red\"))\n",
    "    recording = state[\"end_chain\"]\n",
    "\n",
    "    # Determine the next step based on the verification status\n",
    "    if recording:\n",
    "        print(colored(f\"Recording has finished\", \"red\"))\n",
    "        return \"end\"\n",
    "    else:\n",
    "        print(colored(f\"Still recording...\", \"green\"))\n",
    "        time.sleep(5)\n",
    "        return [\"translate_node_1\", \"translate_node_2\"]"
   ]
  },
  {
   "cell_type": "code",
   "execution_count": 60,
   "metadata": {},
   "outputs": [],
   "source": [
    "from langgraph.graph import START, END, StateGraph\n",
    "\n",
    "\n",
    "async def text_node_function(state):\n",
    "    agent = TranscriptAgent(state=state, file_path=\"text.txt\")\n",
    "    return await agent.invoke()\n",
    "\n",
    "def create_graph() -> StateGraph:\n",
    "    graph = StateGraph(AgentGraphState)\n",
    "\n",
    "    graph.add_node(\"text_node\", text_node_function)\n",
    "\n",
    "    # graph.add_node(\n",
    "    #     \"text_node\",\n",
    "    #     lambda state: TranscriptAgent(\n",
    "    #         state=state,\n",
    "    #     ).invoke(),\n",
    "    # )\n",
    "\n",
    "    # graph.add_node(\n",
    "    #     \"translate_node_1\",\n",
    "    #     lambda state: TranslanteAgent(\n",
    "    #         state=state,\n",
    "    #     ).invoke(),\n",
    "    # )\n",
    "\n",
    "    # graph.add_node(\n",
    "    #     \"translate_node_2\",\n",
    "    #     lambda state: TranslanteAgent(\n",
    "    #         state=state,\n",
    "    #     ).invoke(),\n",
    "    # )\n",
    "\n",
    "    # Set the entry and finish points for the workflow\n",
    "    # graph.set_entry_point(START)\n",
    "    # graph.set_finish_point(END)\n",
    "\n",
    "    # Define the flow of the graph\n",
    "\n",
    "    graph.add_edge(START, \"text_node\")\n",
    "    # graph.add_edge(\"text_node\", END)\n",
    "    # graph.add_edge(\"translate_node_1\", \"text_node\")\n",
    "    # graph.add_edge(\"translate_node_2\", \"text_node\")\n",
    "    graph.add_conditional_edges(\n",
    "        \"text_node\",\n",
    "        should_continue,\n",
    "        {\n",
    "            \"text_node\": \"text_node\",\n",
    "            \"end\": END,\n",
    "        },\n",
    "    )\n",
    "\n",
    "    return graph\n",
    "\n",
    "def compile_workflow(graph: StateGraph):\n",
    "    workflow = graph.compile()\n",
    "    return workflow"
   ]
  },
  {
   "cell_type": "code",
   "execution_count": 61,
   "metadata": {},
   "outputs": [
    {
     "name": "stdout",
     "output_type": "stream",
     "text": [
      "Graph and workflow created.\n",
      "\u001b[36mTRANSCRIPT_AGENT  📝: INVOKE\u001b[0m\n",
      "\u001b[36mTRANSCRIPT_AGENT  📝: Hello, world!\u001b[0m\n",
      "\u001b[36mTRANSCRIPT_AGENT  📝: This is a test file.\u001b[0m\n",
      "\u001b[36mTRANSCRIPT_AGENT  📝: Can you understand me?\u001b[0m\n"
     ]
    },
    {
     "ename": "CancelledError",
     "evalue": "",
     "output_type": "error",
     "traceback": [
      "\u001b[0;31m---------------------------------------------------------------------------\u001b[0m",
      "\u001b[0;31mCancelledError\u001b[0m                            Traceback (most recent call last)",
      "Cell \u001b[0;32mIn[61], line 13\u001b[0m\n\u001b[1;32m     10\u001b[0m limit \u001b[38;5;241m=\u001b[39m {\u001b[38;5;124m\"\u001b[39m\u001b[38;5;124mrecursion_limit\u001b[39m\u001b[38;5;124m\"\u001b[39m: iterations}\n\u001b[1;32m     12\u001b[0m \u001b[38;5;66;03m# Execute the workflow and print state changes\u001b[39;00m\n\u001b[0;32m---> 13\u001b[0m \u001b[38;5;28;01masync\u001b[39;00m \u001b[38;5;28;01mfor\u001b[39;00m event \u001b[38;5;129;01min\u001b[39;00m workflow\u001b[38;5;241m.\u001b[39mastream(dict_inputs, limit):\n\u001b[1;32m     14\u001b[0m     \u001b[38;5;28;01mif\u001b[39;00m verbose:\n\u001b[1;32m     15\u001b[0m         \u001b[38;5;28mprint\u001b[39m(\u001b[38;5;124m\"\u001b[39m\u001b[38;5;130;01m\\n\u001b[39;00m\u001b[38;5;124mState Dictionary:\u001b[39m\u001b[38;5;124m\"\u001b[39m, event)\n",
      "File \u001b[0;32m~/redhat/ai/llm-agents/.conda/lib/python3.11/site-packages/langgraph/pregel/__init__.py:1153\u001b[0m, in \u001b[0;36mPregel.astream\u001b[0;34m(self, input, config, stream_mode, output_keys, interrupt_before, interrupt_after, debug)\u001b[0m\n\u001b[1;32m   1151\u001b[0m     done, inflight \u001b[38;5;241m=\u001b[39m \u001b[38;5;28mset\u001b[39m(), \u001b[38;5;28mset\u001b[39m()\n\u001b[1;32m   1152\u001b[0m \u001b[38;5;28;01mwhile\u001b[39;00m futures:\n\u001b[0;32m-> 1153\u001b[0m     done, inflight \u001b[38;5;241m=\u001b[39m \u001b[38;5;28;01mawait\u001b[39;00m asyncio\u001b[38;5;241m.\u001b[39mwait(\n\u001b[1;32m   1154\u001b[0m         futures,\n\u001b[1;32m   1155\u001b[0m         return_when\u001b[38;5;241m=\u001b[39masyncio\u001b[38;5;241m.\u001b[39mFIRST_COMPLETED,\n\u001b[1;32m   1156\u001b[0m         timeout\u001b[38;5;241m=\u001b[39m(\n\u001b[1;32m   1157\u001b[0m             \u001b[38;5;28mmax\u001b[39m(\u001b[38;5;241m0\u001b[39m, end_time \u001b[38;5;241m-\u001b[39m aioloop\u001b[38;5;241m.\u001b[39mtime()) \u001b[38;5;28;01mif\u001b[39;00m end_time \u001b[38;5;28;01melse\u001b[39;00m \u001b[38;5;28;01mNone\u001b[39;00m\n\u001b[1;32m   1158\u001b[0m         ),\n\u001b[1;32m   1159\u001b[0m     )\n\u001b[1;32m   1160\u001b[0m     \u001b[38;5;28;01mif\u001b[39;00m \u001b[38;5;129;01mnot\u001b[39;00m done:\n\u001b[1;32m   1161\u001b[0m         \u001b[38;5;28;01mbreak\u001b[39;00m  \u001b[38;5;66;03m# timed out\u001b[39;00m\n",
      "File \u001b[0;32m~/redhat/ai/llm-agents/.conda/lib/python3.11/asyncio/tasks.py:428\u001b[0m, in \u001b[0;36mwait\u001b[0;34m(fs, timeout, return_when)\u001b[0m\n\u001b[1;32m    425\u001b[0m     \u001b[38;5;28;01mraise\u001b[39;00m \u001b[38;5;167;01mTypeError\u001b[39;00m(\u001b[38;5;124m\"\u001b[39m\u001b[38;5;124mPassing coroutines is forbidden, use tasks explicitly.\u001b[39m\u001b[38;5;124m\"\u001b[39m)\n\u001b[1;32m    427\u001b[0m loop \u001b[38;5;241m=\u001b[39m events\u001b[38;5;241m.\u001b[39mget_running_loop()\n\u001b[0;32m--> 428\u001b[0m \u001b[38;5;28;01mreturn\u001b[39;00m \u001b[38;5;28;01mawait\u001b[39;00m _wait(fs, timeout, return_when, loop)\n",
      "File \u001b[0;32m~/redhat/ai/llm-agents/.conda/lib/python3.11/asyncio/tasks.py:535\u001b[0m, in \u001b[0;36m_wait\u001b[0;34m(fs, timeout, return_when, loop)\u001b[0m\n\u001b[1;32m    532\u001b[0m     f\u001b[38;5;241m.\u001b[39madd_done_callback(_on_completion)\n\u001b[1;32m    534\u001b[0m \u001b[38;5;28;01mtry\u001b[39;00m:\n\u001b[0;32m--> 535\u001b[0m     \u001b[38;5;28;01mawait\u001b[39;00m waiter\n\u001b[1;32m    536\u001b[0m \u001b[38;5;28;01mfinally\u001b[39;00m:\n\u001b[1;32m    537\u001b[0m     \u001b[38;5;28;01mif\u001b[39;00m timeout_handle \u001b[38;5;129;01mis\u001b[39;00m \u001b[38;5;129;01mnot\u001b[39;00m \u001b[38;5;28;01mNone\u001b[39;00m:\n",
      "\u001b[0;31mCancelledError\u001b[0m: "
     ]
    }
   ],
   "source": [
    "# Create the graph and compile the workflow\n",
    "graph = create_graph()\n",
    "workflow = compile_workflow(graph)\n",
    "print(\"Graph and workflow created.\")\n",
    "\n",
    "# Define workflow parameters\n",
    "iterations = 10\n",
    "verbose = True\n",
    "dict_inputs = {\"start_chain\": \"start\"}\n",
    "limit = {\"recursion_limit\": iterations}\n",
    "\n",
    "# Execute the workflow and print state changes\n",
    "async for event in workflow.astream(dict_inputs, limit):\n",
    "    if verbose:\n",
    "        print(\"\\nState Dictionary:\", event)\n",
    "    else:\n",
    "        print(\"\\n\")"
   ]
  },
  {
   "cell_type": "code",
   "execution_count": null,
   "metadata": {},
   "outputs": [
    {
     "data": {
      "image/png": "[encoded data removed]",
      "text/plain": [
       "<IPython.core.display.Image object>"
      ]
     },
     "metadata": {},
     "output_type": "display_data"
    }
   ],
   "source": [
    "from IPython.display import Image, display\n",
    "\n",
    "display(Image(workflow.get_graph().draw_png()))"
   ]
  }
 ],
 "metadata": {
  "kernelspec": {
   "display_name": "Python 3",
   "language": "python",
   "name": "python3"
  },
  "language_info": {
   "codemirror_mode": {
    "name": "ipython",
    "version": 3
   },
   "file_extension": ".py",
   "mimetype": "text/x-python",
   "name": "python",
   "nbconvert_exporter": "python",
   "pygments_lexer": "ipython3",
   "version": "3.11.9"
  }
 },
 "nbformat": 4,
 "nbformat_minor": 2
}
