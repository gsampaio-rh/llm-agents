{
 "cells": [
  {
   "cell_type": "markdown",
   "metadata": {},
   "source": []
  },
  {
   "cell_type": "markdown",
   "metadata": {},
   "source": [
    "## 1. Setting Up the Environment\n",
    "\n",
    "Before we dive into building our agent, we need to set up the necessary environment. This involves installing required packages and ensuring our Python environment is ready for development."
   ]
  },
  {
   "cell_type": "code",
   "execution_count": 237,
   "metadata": {},
   "outputs": [
    {
     "name": "stdout",
     "output_type": "stream",
     "text": [
      "Requirement already satisfied: termcolor in ./.conda/lib/python3.11/site-packages (2.4.0)\n",
      "Requirement already satisfied: langgraph in ./.conda/lib/python3.11/site-packages (0.1.15)\n",
      "Requirement already satisfied: langchain-core<0.3,>=0.2.22 in ./.conda/lib/python3.11/site-packages (from langgraph) (0.2.23)\n",
      "Requirement already satisfied: PyYAML>=5.3 in ./.conda/lib/python3.11/site-packages (from langchain-core<0.3,>=0.2.22->langgraph) (6.0.1)\n",
      "Requirement already satisfied: jsonpatch<2.0,>=1.33 in ./.conda/lib/python3.11/site-packages (from langchain-core<0.3,>=0.2.22->langgraph) (1.33)\n",
      "Requirement already satisfied: langsmith<0.2.0,>=0.1.75 in ./.conda/lib/python3.11/site-packages (from langchain-core<0.3,>=0.2.22->langgraph) (0.1.93)\n",
      "Requirement already satisfied: packaging<25,>=23.2 in ./.conda/lib/python3.11/site-packages (from langchain-core<0.3,>=0.2.22->langgraph) (24.1)\n",
      "Requirement already satisfied: pydantic<3,>=1 in ./.conda/lib/python3.11/site-packages (from langchain-core<0.3,>=0.2.22->langgraph) (2.8.2)\n",
      "Requirement already satisfied: tenacity!=8.4.0,<9.0.0,>=8.1.0 in ./.conda/lib/python3.11/site-packages (from langchain-core<0.3,>=0.2.22->langgraph) (8.5.0)\n",
      "Requirement already satisfied: jsonpointer>=1.9 in ./.conda/lib/python3.11/site-packages (from jsonpatch<2.0,>=1.33->langchain-core<0.3,>=0.2.22->langgraph) (3.0.0)\n",
      "Requirement already satisfied: orjson<4.0.0,>=3.9.14 in ./.conda/lib/python3.11/site-packages (from langsmith<0.2.0,>=0.1.75->langchain-core<0.3,>=0.2.22->langgraph) (3.10.6)\n",
      "Requirement already satisfied: requests<3,>=2 in ./.conda/lib/python3.11/site-packages (from langsmith<0.2.0,>=0.1.75->langchain-core<0.3,>=0.2.22->langgraph) (2.32.3)\n",
      "Requirement already satisfied: annotated-types>=0.4.0 in ./.conda/lib/python3.11/site-packages (from pydantic<3,>=1->langchain-core<0.3,>=0.2.22->langgraph) (0.7.0)\n",
      "Requirement already satisfied: pydantic-core==2.20.1 in ./.conda/lib/python3.11/site-packages (from pydantic<3,>=1->langchain-core<0.3,>=0.2.22->langgraph) (2.20.1)\n",
      "Requirement already satisfied: typing-extensions>=4.6.1 in ./.conda/lib/python3.11/site-packages (from pydantic<3,>=1->langchain-core<0.3,>=0.2.22->langgraph) (4.12.2)\n",
      "Requirement already satisfied: charset-normalizer<4,>=2 in ./.conda/lib/python3.11/site-packages (from requests<3,>=2->langsmith<0.2.0,>=0.1.75->langchain-core<0.3,>=0.2.22->langgraph) (3.3.2)\n",
      "Requirement already satisfied: idna<4,>=2.5 in ./.conda/lib/python3.11/site-packages (from requests<3,>=2->langsmith<0.2.0,>=0.1.75->langchain-core<0.3,>=0.2.22->langgraph) (3.7)\n",
      "Requirement already satisfied: urllib3<3,>=1.21.1 in ./.conda/lib/python3.11/site-packages (from requests<3,>=2->langsmith<0.2.0,>=0.1.75->langchain-core<0.3,>=0.2.22->langgraph) (2.2.2)\n",
      "Requirement already satisfied: certifi>=2017.4.17 in ./.conda/lib/python3.11/site-packages (from requests<3,>=2->langsmith<0.2.0,>=0.1.75->langchain-core<0.3,>=0.2.22->langgraph) (2024.7.4)\n",
      "Note: you may need to restart the kernel to use updated packages.\n"
     ]
    }
   ],
   "source": [
    "# Install termcolor for colored terminal outputs\n",
    "%pip install termcolor langgraph"
   ]
  },
  {
   "cell_type": "code",
   "execution_count": 238,
   "metadata": {},
   "outputs": [],
   "source": [
    "# Import necessary libraries\n",
    "from langgraph.graph.message import add_messages\n",
    "from typing import TypedDict, Annotated\n",
    "from datetime import datetime, timezone\n",
    "from termcolor import colored\n",
    "import time"
   ]
  },
  {
   "cell_type": "code",
   "execution_count": 239,
   "metadata": {},
   "outputs": [],
   "source": [
    "# Get the current date and time in UTC\n",
    "def get_current_utc_datetime():\n",
    "    now_utc = datetime.now(timezone.utc)\n",
    "    return now_utc.strftime(\"%Y-%m-%d %H:%M:%S.%f UTC\")[:-3]  # Truncate to milliseconds"
   ]
  },
  {
   "cell_type": "code",
   "execution_count": 240,
   "metadata": {},
   "outputs": [],
   "source": [
    "# Define the state object for the agent graph\n",
    "class AgentGraphState(TypedDict):\n",
    "    start_chain: Annotated[list, add_messages]\n",
    "    transcription_response: Annotated[list, add_messages]\n",
    "    portuguese_response: Annotated[list, add_messages]\n",
    "    spanish_response: Annotated[list, add_messages]\n",
    "    end_chain: Annotated[list, add_messages]\n",
    "\n",
    "\n",
    "# Function to retrieve specific parts of the agent state\n",
    "def get_agent_graph_state(state: AgentGraphState, state_key: str):\n",
    "\n",
    "    if state_key == \"transcription_all\":\n",
    "        return state[\"transcription_response\"]\n",
    "    elif state_key == \"transcription_latest\":\n",
    "        return (\n",
    "            state[\"transcription_response\"][-1]\n",
    "            if state[\"transcription_response\"]\n",
    "            else []\n",
    "        )\n",
    "\n",
    "    if state_key == \"portuguese_all\":\n",
    "        return state[\"portuguese_response\"]\n",
    "    elif state_key == \"portuguese_latest\":\n",
    "        return state[\"portuguese_response\"][-1] if state[\"portuguese_response\"] else []\n",
    "\n",
    "    if state_key == \"spanish_all\":\n",
    "        return state[\"spanish_response\"]\n",
    "    elif state_key == \"spanish_latest\":\n",
    "        return state[\"spanish_response\"][-1] if state[\"spanish_response\"] else []\n",
    "\n",
    "    else:\n",
    "        return None\n",
    "\n",
    "\n",
    "# Initial state setup\n",
    "state = {\n",
    "    \"start_chain\": [],\n",
    "    \"transcription_response\": [],\n",
    "    \"portuguese_response\": [],\n",
    "    \"spanish_response\": [],\n",
    "    \"end_chain\": [],\n",
    "}"
   ]
  },
  {
   "cell_type": "code",
   "execution_count": 241,
   "metadata": {},
   "outputs": [],
   "source": [
    "import asyncio\n",
    "\n",
    "class TranscriptAgent:\n",
    "\n",
    "    def __init__(self, state: AgentGraphState, words: list):\n",
    "        self.state = state\n",
    "        self.words = words\n",
    "\n",
    "    async def invoke(self):\n",
    "        print(colored(f\"TRANSCRIPT_AGENT 📝: START TRANSCRIPT\", \"cyan\"))\n",
    "        for word in self.words:\n",
    "            await asyncio.sleep(1)  # Simulate async operation\n",
    "            print(colored(f\"TRANSCRIPT_AGENT 📝: Processing word '{word}'\", \"cyan\"))\n",
    "            self.state[\"transcription_response\"].append(word)\n",
    "            yield self.state\n",
    "\n",
    "        print(colored(f\"TRANSCRIPT_AGENT 📝: END CHAIN\", \"green\"))\n",
    "        self.state[\"end_chain\"].append(\"END\")\n",
    "        yield self.state"
   ]
  },
  {
   "cell_type": "code",
   "execution_count": 242,
   "metadata": {},
   "outputs": [],
   "source": [
    "class TranslanteAgent:\n",
    "\n",
    "    def __init__(self, state: AgentGraphState):\n",
    "        self.state = state\n",
    "\n",
    "    def invoke(\n",
    "        self,\n",
    "    ) -> dict:\n",
    "        print(colored(f\"TRANSLATE_AGENT 🗣️: {self.state}\", \"yellow\"))\n",
    "        return self.state"
   ]
  },
  {
   "cell_type": "code",
   "execution_count": 243,
   "metadata": {},
   "outputs": [],
   "source": [
    "def should_continue(state: AgentGraphState):\n",
    "    print(colored(f\"Checking if we are still recording\", \"red\"))\n",
    "    recording = state[\"end_chain\"]\n",
    "\n",
    "    # Determine the next step based on the verification status\n",
    "    if recording:\n",
    "        print(colored(f\"Recording has finished\", \"red\"))\n",
    "        return \"end\"\n",
    "    else:\n",
    "        print(colored(f\"Still recording...\", \"green\"))\n",
    "        # time.sleep(5)\n",
    "        return \"translate_node\""
   ]
  },
  {
   "cell_type": "code",
   "execution_count": 244,
   "metadata": {},
   "outputs": [],
   "source": [
    "from langgraph.graph import START, END, StateGraph\n",
    "\n",
    "async def text_node_function(state: AgentGraphState):\n",
    "    agent = TranscriptAgent(\n",
    "        state=state, words=[\"hello\", \"world\", \"this\", \"is\", \"a\", \"test\"]\n",
    "    )\n",
    "    async for new_state in agent.invoke():\n",
    "        yield new_state\n",
    "\n",
    "\n",
    "def translate_node_function(state: AgentGraphState):\n",
    "    agent = TranslanteAgent(\n",
    "        state=state,\n",
    "    )\n",
    "    \n",
    "    return agent.invoke()\n",
    "\n",
    "\n",
    "def create_graph() -> StateGraph:\n",
    "    graph = StateGraph(AgentGraphState)\n",
    "\n",
    "    graph.add_node(\"text_node\", text_node_function)\n",
    "    graph.add_node(\"translate_node\", translate_node_function)\n",
    "\n",
    "    # Define the flow of the graph\n",
    "    graph.add_edge(START, \"text_node\")\n",
    "    graph.add_edge(START, \"translate_node\")\n",
    "    graph.add_conditional_edges(\n",
    "        \"translate_node\",\n",
    "        should_continue,\n",
    "        {\"translate_node\": \"translate_node\", \"end\": END},\n",
    "    )\n",
    "    graph.add_edge(\"text_node\", END)\n",
    "\n",
    "    return graph\n",
    "\n",
    "def compile_workflow(graph: StateGraph):\n",
    "    workflow = graph.compile()\n",
    "    return workflow"
   ]
  },
  {
   "cell_type": "code",
   "execution_count": 245,
   "metadata": {},
   "outputs": [
    {
     "name": "stdout",
     "output_type": "stream",
     "text": [
      "Graph and workflow created.\n"
     ]
    },
    {
     "data": {
      "image/png": "[encoded data removed]",
      "text/plain": [
       "<IPython.core.display.Image object>"
      ]
     },
     "metadata": {},
     "output_type": "display_data"
    }
   ],
   "source": [
    "from IPython.display import Image, display\n",
    "\n",
    "# Create the graph and compile the workflow\n",
    "graph = create_graph()\n",
    "workflow = compile_workflow(graph)\n",
    "print(\"Graph and workflow created.\")\n",
    "\n",
    "display(Image(workflow.get_graph().draw_png()))"
   ]
  },
  {
   "cell_type": "code",
   "execution_count": 246,
   "metadata": {},
   "outputs": [
    {
     "name": "stdout",
     "output_type": "stream",
     "text": [
      "\u001b[35m{'event': 'on_chain_start', 'data': {'input': {'start_chain': 'start'}}, 'name': 'LangGraph', 'tags': [], 'run_id': 'b9a7e8a5-d6ef-4b00-a9b0-4e84a659fd4c', 'metadata': {}, 'parent_ids': []}\u001b[0m\n",
      "\u001b[35m{'event': 'on_chain_start', 'data': {'input': {'start_chain': 'start'}}, 'name': '__start__', 'tags': ['graph:step:0', 'langsmith:hidden'], 'run_id': '230988a2-9f9f-4366-8169-a794b0bca0f5', 'metadata': {'langgraph_step': 0, 'langgraph_node': '__start__', 'langgraph_triggers': ['__start__'], 'langgraph_task_idx': 0, 'thread_ts': '1ef50cc7-7d62-6498-bffe-28036db5cc18'}, 'parent_ids': ['b9a7e8a5-d6ef-4b00-a9b0-4e84a659fd4c']}\u001b[0m\n",
      "\u001b[35m{'event': 'on_chain_end', 'data': {'output': {'start_chain': 'start'}, 'input': {'start_chain': 'start'}}, 'run_id': '230988a2-9f9f-4366-8169-a794b0bca0f5', 'name': '__start__', 'tags': ['graph:step:0', 'langsmith:hidden'], 'metadata': {'langgraph_step': 0, 'langgraph_node': '__start__', 'langgraph_triggers': ['__start__'], 'langgraph_task_idx': 0, 'thread_ts': '1ef50cc7-7d62-6498-bffe-28036db5cc18'}, 'parent_ids': ['b9a7e8a5-d6ef-4b00-a9b0-4e84a659fd4c']}\u001b[0m\n",
      "\u001b[36m{'event': 'on_chain_start', 'data': {}, 'name': 'text_node', 'tags': ['graph:step:1'], 'run_id': 'c1e8dc91-bd1c-4539-ba10-cffd74e126e8', 'metadata': {'langgraph_step': 1, 'langgraph_node': 'text_node', 'langgraph_triggers': ['start:text_node'], 'langgraph_task_idx': 0, 'thread_ts': '1ef50cc7-7d62-6498-bffe-28036db5cc18'}, 'parent_ids': ['b9a7e8a5-d6ef-4b00-a9b0-4e84a659fd4c']}\u001b[0m\n",
      "\u001b[33m{'event': 'on_chain_start', 'data': {}, 'name': 'translate_node', 'tags': ['graph:step:1'], 'run_id': '5d1b9e3d-2ab1-470e-9bed-1824ee8d0d60', 'metadata': {'langgraph_step': 1, 'langgraph_node': 'translate_node', 'langgraph_triggers': ['start:translate_node'], 'langgraph_task_idx': 1, 'thread_ts': '1ef50cc7-7d62-6498-bffe-28036db5cc18'}, 'parent_ids': ['b9a7e8a5-d6ef-4b00-a9b0-4e84a659fd4c']}\u001b[0m\n",
      "\u001b[33mTRANSLATE_AGENT 🗣️: {'start_chain': [HumanMessage(content='start', id='6ce34ab1-f507-43ab-ae2c-3574e02a530b')], 'transcription_response': [], 'portuguese_response': [], 'spanish_response': [], 'end_chain': []}\u001b[0m\n",
      "\u001b[36m{'event': 'on_chain_start', 'data': {}, 'name': 'text_node', 'tags': ['seq:step:1'], 'run_id': '882002cd-52ac-470e-92cd-0f1f265051e8', 'metadata': {'langgraph_step': 1, 'langgraph_node': 'text_node', 'langgraph_triggers': ['start:text_node'], 'langgraph_task_idx': 0, 'thread_ts': '1ef50cc7-7d62-6498-bffe-28036db5cc18'}, 'parent_ids': ['b9a7e8a5-d6ef-4b00-a9b0-4e84a659fd4c', 'c1e8dc91-bd1c-4539-ba10-cffd74e126e8']}\u001b[0m\n",
      "\u001b[36mTRANSCRIPT_AGENT 📝: START TRANSCRIPT\u001b[0m\n",
      "\u001b[35m{'event': 'on_chain_start', 'data': {'input': {'start_chain': [HumanMessage(content='start', id='6ce34ab1-f507-43ab-ae2c-3574e02a530b')], 'transcription_response': [], 'portuguese_response': [], 'spanish_response': [], 'end_chain': []}}, 'name': 'ChannelWrite<translate_node,start_chain,transcription_response,portuguese_response,spanish_response,end_chain>', 'tags': ['seq:step:2', 'langsmith:hidden'], 'run_id': '353e4880-ca03-4c4e-964f-8ff717a58b16', 'metadata': {'langgraph_step': 1, 'langgraph_node': 'translate_node', 'langgraph_triggers': ['start:translate_node'], 'langgraph_task_idx': 1, 'thread_ts': '1ef50cc7-7d62-6498-bffe-28036db5cc18'}, 'parent_ids': ['b9a7e8a5-d6ef-4b00-a9b0-4e84a659fd4c', '5d1b9e3d-2ab1-470e-9bed-1824ee8d0d60']}\u001b[0m\n",
      "\u001b[35m{'event': 'on_chain_end', 'data': {'output': {'start_chain': [HumanMessage(content='start', id='6ce34ab1-f507-43ab-ae2c-3574e02a530b')], 'transcription_response': [], 'portuguese_response': [], 'spanish_response': [], 'end_chain': []}, 'input': {'start_chain': [HumanMessage(content='start', id='6ce34ab1-f507-43ab-ae2c-3574e02a530b')], 'transcription_response': [], 'portuguese_response': [], 'spanish_response': [], 'end_chain': []}}, 'run_id': '353e4880-ca03-4c4e-964f-8ff717a58b16', 'name': 'ChannelWrite<translate_node,start_chain,transcription_response,portuguese_response,spanish_response,end_chain>', 'tags': ['seq:step:2', 'langsmith:hidden'], 'metadata': {'langgraph_step': 1, 'langgraph_node': 'translate_node', 'langgraph_triggers': ['start:translate_node'], 'langgraph_task_idx': 1, 'thread_ts': '1ef50cc7-7d62-6498-bffe-28036db5cc18'}, 'parent_ids': ['b9a7e8a5-d6ef-4b00-a9b0-4e84a659fd4c', '5d1b9e3d-2ab1-470e-9bed-1824ee8d0d60']}\u001b[0m\n",
      "\u001b[35m{'event': 'on_chain_start', 'data': {'input': {'start_chain': [HumanMessage(content='start', id='6ce34ab1-f507-43ab-ae2c-3574e02a530b')], 'transcription_response': [], 'portuguese_response': [], 'spanish_response': [], 'end_chain': []}}, 'name': 'should_continue', 'tags': ['seq:step:3'], 'run_id': '2d655698-c596-4c74-8b30-70f0f16995e9', 'metadata': {'langgraph_step': 1, 'langgraph_node': 'translate_node', 'langgraph_triggers': ['start:translate_node'], 'langgraph_task_idx': 1, 'thread_ts': '1ef50cc7-7d62-6498-bffe-28036db5cc18'}, 'parent_ids': ['b9a7e8a5-d6ef-4b00-a9b0-4e84a659fd4c', '5d1b9e3d-2ab1-470e-9bed-1824ee8d0d60']}\u001b[0m\n",
      "\u001b[31mChecking if we are still recording\u001b[0m\n",
      "\u001b[32mStill recording...\u001b[0m\n",
      "\u001b[35m{'event': 'on_chain_end', 'data': {'output': 'translate_node', 'input': {'start_chain': [HumanMessage(content='start', id='6ce34ab1-f507-43ab-ae2c-3574e02a530b')], 'transcription_response': [], 'portuguese_response': [], 'spanish_response': [], 'end_chain': []}}, 'run_id': '2d655698-c596-4c74-8b30-70f0f16995e9', 'name': 'should_continue', 'tags': ['seq:step:3'], 'metadata': {'langgraph_step': 1, 'langgraph_node': 'translate_node', 'langgraph_triggers': ['start:translate_node'], 'langgraph_task_idx': 1, 'thread_ts': '1ef50cc7-7d62-6498-bffe-28036db5cc18'}, 'parent_ids': ['b9a7e8a5-d6ef-4b00-a9b0-4e84a659fd4c', '5d1b9e3d-2ab1-470e-9bed-1824ee8d0d60']}\u001b[0m\n",
      "\u001b[35m{'event': 'on_chain_start', 'data': {'input': {'start_chain': [HumanMessage(content='start', id='6ce34ab1-f507-43ab-ae2c-3574e02a530b')], 'transcription_response': [], 'portuguese_response': [], 'spanish_response': [], 'end_chain': []}}, 'name': 'ChannelWrite<branch:translate_node:should_continue:translate_node>', 'tags': ['seq:step:3', 'langsmith:hidden'], 'run_id': 'c52298de-5e61-491d-8072-cfedb488968d', 'metadata': {'langgraph_step': 1, 'langgraph_node': 'translate_node', 'langgraph_triggers': ['start:translate_node'], 'langgraph_task_idx': 1, 'thread_ts': '1ef50cc7-7d62-6498-bffe-28036db5cc18'}, 'parent_ids': ['b9a7e8a5-d6ef-4b00-a9b0-4e84a659fd4c', '5d1b9e3d-2ab1-470e-9bed-1824ee8d0d60']}\u001b[0m\n",
      "\u001b[35m{'event': 'on_chain_end', 'data': {'output': {'start_chain': [HumanMessage(content='start', id='6ce34ab1-f507-43ab-ae2c-3574e02a530b')], 'transcription_response': [], 'portuguese_response': [], 'spanish_response': [], 'end_chain': []}, 'input': {'start_chain': [HumanMessage(content='start', id='6ce34ab1-f507-43ab-ae2c-3574e02a530b')], 'transcription_response': [], 'portuguese_response': [], 'spanish_response': [], 'end_chain': []}}, 'run_id': 'c52298de-5e61-491d-8072-cfedb488968d', 'name': 'ChannelWrite<branch:translate_node:should_continue:translate_node>', 'tags': ['seq:step:3', 'langsmith:hidden'], 'metadata': {'langgraph_step': 1, 'langgraph_node': 'translate_node', 'langgraph_triggers': ['start:translate_node'], 'langgraph_task_idx': 1, 'thread_ts': '1ef50cc7-7d62-6498-bffe-28036db5cc18'}, 'parent_ids': ['b9a7e8a5-d6ef-4b00-a9b0-4e84a659fd4c', '5d1b9e3d-2ab1-470e-9bed-1824ee8d0d60']}\u001b[0m\n",
      "\u001b[33m{'event': 'on_chain_stream', 'run_id': '5d1b9e3d-2ab1-470e-9bed-1824ee8d0d60', 'name': 'translate_node', 'tags': ['graph:step:1'], 'metadata': {'langgraph_step': 1, 'langgraph_node': 'translate_node', 'langgraph_triggers': ['start:translate_node'], 'langgraph_task_idx': 1, 'thread_ts': '1ef50cc7-7d62-6498-bffe-28036db5cc18'}, 'data': {'chunk': {'start_chain': [HumanMessage(content='start', id='6ce34ab1-f507-43ab-ae2c-3574e02a530b')], 'transcription_response': [], 'portuguese_response': [], 'spanish_response': [], 'end_chain': []}}, 'parent_ids': ['b9a7e8a5-d6ef-4b00-a9b0-4e84a659fd4c']}\u001b[0m\n",
      "\u001b[33m{'event': 'on_chain_end', 'data': {'output': {'start_chain': [HumanMessage(content='start', id='6ce34ab1-f507-43ab-ae2c-3574e02a530b')], 'transcription_response': [], 'portuguese_response': [], 'spanish_response': [], 'end_chain': []}, 'input': {'start_chain': [HumanMessage(content='start', id='6ce34ab1-f507-43ab-ae2c-3574e02a530b')], 'transcription_response': [], 'portuguese_response': [], 'spanish_response': [], 'end_chain': []}}, 'run_id': '5d1b9e3d-2ab1-470e-9bed-1824ee8d0d60', 'name': 'translate_node', 'tags': ['graph:step:1'], 'metadata': {'langgraph_step': 1, 'langgraph_node': 'translate_node', 'langgraph_triggers': ['start:translate_node'], 'langgraph_task_idx': 1, 'thread_ts': '1ef50cc7-7d62-6498-bffe-28036db5cc18'}, 'parent_ids': ['b9a7e8a5-d6ef-4b00-a9b0-4e84a659fd4c']}\u001b[0m\n",
      "\u001b[35m{'event': 'on_chain_stream', 'run_id': 'b9a7e8a5-d6ef-4b00-a9b0-4e84a659fd4c', 'name': 'LangGraph', 'tags': [], 'metadata': {}, 'data': {'chunk': {'translate_node': {'start_chain': [HumanMessage(content='start', id='6ce34ab1-f507-43ab-ae2c-3574e02a530b')], 'transcription_response': [], 'portuguese_response': [], 'spanish_response': [], 'end_chain': []}}}, 'parent_ids': []}\u001b[0m\n",
      "\u001b[36mTRANSCRIPT_AGENT 📝: Processing word 'hello'\u001b[0m\n",
      "\u001b[36m{'event': 'on_chain_stream', 'run_id': '882002cd-52ac-470e-92cd-0f1f265051e8', 'name': 'text_node', 'tags': ['seq:step:1'], 'metadata': {'langgraph_step': 1, 'langgraph_node': 'text_node', 'langgraph_triggers': ['start:text_node'], 'langgraph_task_idx': 0, 'thread_ts': '1ef50cc7-7d62-6498-bffe-28036db5cc18'}, 'data': {'chunk': {'start_chain': [HumanMessage(content='start', id='6ce34ab1-f507-43ab-ae2c-3574e02a530b')], 'transcription_response': ['hello'], 'portuguese_response': [], 'spanish_response': [], 'end_chain': []}}, 'parent_ids': ['b9a7e8a5-d6ef-4b00-a9b0-4e84a659fd4c', 'c1e8dc91-bd1c-4539-ba10-cffd74e126e8']}\u001b[0m\n",
      "\u001b[36mTRANSCRIPT_AGENT 📝: Processing word 'world'\u001b[0m\n",
      "\u001b[36m{'event': 'on_chain_stream', 'run_id': '882002cd-52ac-470e-92cd-0f1f265051e8', 'name': 'text_node', 'tags': ['seq:step:1'], 'metadata': {'langgraph_step': 1, 'langgraph_node': 'text_node', 'langgraph_triggers': ['start:text_node'], 'langgraph_task_idx': 0, 'thread_ts': '1ef50cc7-7d62-6498-bffe-28036db5cc18'}, 'data': {'chunk': {'start_chain': [HumanMessage(content='start', id='6ce34ab1-f507-43ab-ae2c-3574e02a530b')], 'transcription_response': ['hello', 'world'], 'portuguese_response': [], 'spanish_response': [], 'end_chain': []}}, 'parent_ids': ['b9a7e8a5-d6ef-4b00-a9b0-4e84a659fd4c', 'c1e8dc91-bd1c-4539-ba10-cffd74e126e8']}\u001b[0m\n",
      "\u001b[36mTRANSCRIPT_AGENT 📝: Processing word 'this'\u001b[0m\n",
      "\u001b[36m{'event': 'on_chain_stream', 'run_id': '882002cd-52ac-470e-92cd-0f1f265051e8', 'name': 'text_node', 'tags': ['seq:step:1'], 'metadata': {'langgraph_step': 1, 'langgraph_node': 'text_node', 'langgraph_triggers': ['start:text_node'], 'langgraph_task_idx': 0, 'thread_ts': '1ef50cc7-7d62-6498-bffe-28036db5cc18'}, 'data': {'chunk': {'start_chain': [HumanMessage(content='start', id='6ce34ab1-f507-43ab-ae2c-3574e02a530b')], 'transcription_response': ['hello', 'world', 'this'], 'portuguese_response': [], 'spanish_response': [], 'end_chain': []}}, 'parent_ids': ['b9a7e8a5-d6ef-4b00-a9b0-4e84a659fd4c', 'c1e8dc91-bd1c-4539-ba10-cffd74e126e8']}\u001b[0m\n",
      "\u001b[36mTRANSCRIPT_AGENT 📝: Processing word 'is'\u001b[0m\n",
      "\u001b[36m{'event': 'on_chain_stream', 'run_id': '882002cd-52ac-470e-92cd-0f1f265051e8', 'name': 'text_node', 'tags': ['seq:step:1'], 'metadata': {'langgraph_step': 1, 'langgraph_node': 'text_node', 'langgraph_triggers': ['start:text_node'], 'langgraph_task_idx': 0, 'thread_ts': '1ef50cc7-7d62-6498-bffe-28036db5cc18'}, 'data': {'chunk': {'start_chain': [HumanMessage(content='start', id='6ce34ab1-f507-43ab-ae2c-3574e02a530b')], 'transcription_response': ['hello', 'world', 'this', 'is'], 'portuguese_response': [], 'spanish_response': [], 'end_chain': []}}, 'parent_ids': ['b9a7e8a5-d6ef-4b00-a9b0-4e84a659fd4c', 'c1e8dc91-bd1c-4539-ba10-cffd74e126e8']}\u001b[0m\n",
      "\u001b[36mTRANSCRIPT_AGENT 📝: Processing word 'a'\u001b[0m\n",
      "\u001b[36m{'event': 'on_chain_stream', 'run_id': '882002cd-52ac-470e-92cd-0f1f265051e8', 'name': 'text_node', 'tags': ['seq:step:1'], 'metadata': {'langgraph_step': 1, 'langgraph_node': 'text_node', 'langgraph_triggers': ['start:text_node'], 'langgraph_task_idx': 0, 'thread_ts': '1ef50cc7-7d62-6498-bffe-28036db5cc18'}, 'data': {'chunk': {'start_chain': [HumanMessage(content='start', id='6ce34ab1-f507-43ab-ae2c-3574e02a530b')], 'transcription_response': ['hello', 'world', 'this', 'is', 'a'], 'portuguese_response': [], 'spanish_response': [], 'end_chain': []}}, 'parent_ids': ['b9a7e8a5-d6ef-4b00-a9b0-4e84a659fd4c', 'c1e8dc91-bd1c-4539-ba10-cffd74e126e8']}\u001b[0m\n",
      "\u001b[36mTRANSCRIPT_AGENT 📝: Processing word 'test'\u001b[0m\n",
      "\u001b[32mTRANSCRIPT_AGENT 📝: END CHAIN\u001b[0m\n"
     ]
    },
    {
     "ename": "CancelledError",
     "evalue": "",
     "output_type": "error",
     "traceback": [
      "\u001b[0;31m---------------------------------------------------------------------------\u001b[0m",
      "\u001b[0;31mCancelledError\u001b[0m                            Traceback (most recent call last)",
      "Cell \u001b[0;32mIn[246], line 6\u001b[0m\n\u001b[1;32m      3\u001b[0m dict_inputs \u001b[38;5;241m=\u001b[39m {\u001b[38;5;124m\"\u001b[39m\u001b[38;5;124mstart_chain\u001b[39m\u001b[38;5;124m\"\u001b[39m: \u001b[38;5;124m\"\u001b[39m\u001b[38;5;124mstart\u001b[39m\u001b[38;5;124m\"\u001b[39m}\n\u001b[1;32m      5\u001b[0m \u001b[38;5;66;03m# Execute the workflow and print state changes\u001b[39;00m\n\u001b[0;32m----> 6\u001b[0m \u001b[38;5;28;01masync\u001b[39;00m \u001b[38;5;28;01mfor\u001b[39;00m event \u001b[38;5;129;01min\u001b[39;00m workflow\u001b[38;5;241m.\u001b[39mastream_events(dict_inputs, version\u001b[38;5;241m=\u001b[39m\u001b[38;5;124m\"\u001b[39m\u001b[38;5;124mv2\u001b[39m\u001b[38;5;124m\"\u001b[39m):\n\u001b[1;32m      7\u001b[0m     \u001b[38;5;28;01mif\u001b[39;00m verbose:\n\u001b[1;32m      8\u001b[0m         \u001b[38;5;28;01mif\u001b[39;00m(event[\u001b[38;5;124m'\u001b[39m\u001b[38;5;124mname\u001b[39m\u001b[38;5;124m'\u001b[39m]\u001b[38;5;241m==\u001b[39m\u001b[38;5;124m'\u001b[39m\u001b[38;5;124mtext_node\u001b[39m\u001b[38;5;124m'\u001b[39m):\n",
      "File \u001b[0;32m~/redhat/ai/llm-agents/.conda/lib/python3.11/site-packages/langchain_core/runnables/base.py:1246\u001b[0m, in \u001b[0;36mRunnable.astream_events\u001b[0;34m(self, input, config, version, include_names, include_types, include_tags, exclude_names, exclude_types, exclude_tags, **kwargs)\u001b[0m\n\u001b[1;32m   1241\u001b[0m     \u001b[38;5;28;01mraise\u001b[39;00m \u001b[38;5;167;01mNotImplementedError\u001b[39;00m(\n\u001b[1;32m   1242\u001b[0m         \u001b[38;5;124m'\u001b[39m\u001b[38;5;124mOnly versions \u001b[39m\u001b[38;5;124m\"\u001b[39m\u001b[38;5;124mv1\u001b[39m\u001b[38;5;124m\"\u001b[39m\u001b[38;5;124m and \u001b[39m\u001b[38;5;124m\"\u001b[39m\u001b[38;5;124mv2\u001b[39m\u001b[38;5;124m\"\u001b[39m\u001b[38;5;124m of the schema is currently supported.\u001b[39m\u001b[38;5;124m'\u001b[39m\n\u001b[1;32m   1243\u001b[0m     )\n\u001b[1;32m   1245\u001b[0m \u001b[38;5;28;01masync\u001b[39;00m \u001b[38;5;28;01mwith\u001b[39;00m aclosing(event_stream):\n\u001b[0;32m-> 1246\u001b[0m     \u001b[38;5;28;01masync\u001b[39;00m \u001b[38;5;28;01mfor\u001b[39;00m event \u001b[38;5;129;01min\u001b[39;00m event_stream:\n\u001b[1;32m   1247\u001b[0m         \u001b[38;5;28;01myield\u001b[39;00m event\n",
      "File \u001b[0;32m~/redhat/ai/llm-agents/.conda/lib/python3.11/site-packages/langchain_core/tracers/event_stream.py:978\u001b[0m, in \u001b[0;36m_astream_events_implementation_v2\u001b[0;34m(runnable, input, config, include_names, include_types, include_tags, exclude_names, exclude_types, exclude_tags, **kwargs)\u001b[0m\n\u001b[1;32m    975\u001b[0m first_event_run_id \u001b[38;5;241m=\u001b[39m \u001b[38;5;28;01mNone\u001b[39;00m\n\u001b[1;32m    977\u001b[0m \u001b[38;5;28;01mtry\u001b[39;00m:\n\u001b[0;32m--> 978\u001b[0m     \u001b[38;5;28;01masync\u001b[39;00m \u001b[38;5;28;01mfor\u001b[39;00m event \u001b[38;5;129;01min\u001b[39;00m event_streamer:\n\u001b[1;32m    979\u001b[0m         \u001b[38;5;28;01mif\u001b[39;00m \u001b[38;5;129;01mnot\u001b[39;00m first_event_sent:\n\u001b[1;32m    980\u001b[0m             first_event_sent \u001b[38;5;241m=\u001b[39m \u001b[38;5;28;01mTrue\u001b[39;00m\n",
      "File \u001b[0;32m~/redhat/ai/llm-agents/.conda/lib/python3.11/site-packages/langchain_core/tracers/memory_stream.py:96\u001b[0m, in \u001b[0;36m_ReceiveStream.__aiter__\u001b[0;34m(self)\u001b[0m\n\u001b[1;32m     94\u001b[0m \u001b[38;5;28;01masync\u001b[39;00m \u001b[38;5;28;01mdef\u001b[39;00m \u001b[38;5;21m__aiter__\u001b[39m(\u001b[38;5;28mself\u001b[39m) \u001b[38;5;241m-\u001b[39m\u001b[38;5;241m>\u001b[39m AsyncIterator[T]:\n\u001b[1;32m     95\u001b[0m     \u001b[38;5;28;01mwhile\u001b[39;00m \u001b[38;5;28;01mTrue\u001b[39;00m:\n\u001b[0;32m---> 96\u001b[0m         item \u001b[38;5;241m=\u001b[39m \u001b[38;5;28;01mawait\u001b[39;00m \u001b[38;5;28mself\u001b[39m\u001b[38;5;241m.\u001b[39m_queue\u001b[38;5;241m.\u001b[39mget()\n\u001b[1;32m     97\u001b[0m         \u001b[38;5;28;01mif\u001b[39;00m item \u001b[38;5;129;01mis\u001b[39;00m \u001b[38;5;28mself\u001b[39m\u001b[38;5;241m.\u001b[39m_done:\n\u001b[1;32m     98\u001b[0m             \u001b[38;5;28mself\u001b[39m\u001b[38;5;241m.\u001b[39m_is_closed \u001b[38;5;241m=\u001b[39m \u001b[38;5;28;01mTrue\u001b[39;00m\n",
      "File \u001b[0;32m~/redhat/ai/llm-agents/.conda/lib/python3.11/asyncio/queues.py:158\u001b[0m, in \u001b[0;36mQueue.get\u001b[0;34m(self)\u001b[0m\n\u001b[1;32m    156\u001b[0m \u001b[38;5;28mself\u001b[39m\u001b[38;5;241m.\u001b[39m_getters\u001b[38;5;241m.\u001b[39mappend(getter)\n\u001b[1;32m    157\u001b[0m \u001b[38;5;28;01mtry\u001b[39;00m:\n\u001b[0;32m--> 158\u001b[0m     \u001b[38;5;28;01mawait\u001b[39;00m getter\n\u001b[1;32m    159\u001b[0m \u001b[38;5;28;01mexcept\u001b[39;00m:\n\u001b[1;32m    160\u001b[0m     getter\u001b[38;5;241m.\u001b[39mcancel()  \u001b[38;5;66;03m# Just in case getter is not done yet.\u001b[39;00m\n",
      "\u001b[0;31mCancelledError\u001b[0m: "
     ]
    }
   ],
   "source": [
    "# Define workflow parameters\n",
    "verbose = True\n",
    "dict_inputs = {\"start_chain\": \"start\"}\n",
    "\n",
    "# Execute the workflow and print state changes\n",
    "async for event in workflow.astream_events(dict_inputs, version=\"v2\"):\n",
    "    if verbose:\n",
    "        if(event['name']=='text_node'):\n",
    "            print(colored(event, \"cyan\"))\n",
    "        elif(event['name']=='translate_node'):\n",
    "            print(colored(event, \"yellow\"))\n",
    "        else:\n",
    "            print(colored(event,\"magenta\"))\n",
    "    else:\n",
    "        print(\"\\n\")"
   ]
  },
  {
   "cell_type": "code",
   "execution_count": null,
   "metadata": {},
   "outputs": [],
   "source": []
  }
 ],
 "metadata": {
  "kernelspec": {
   "display_name": "Python 3",
   "language": "python",
   "name": "python3"
  },
  "language_info": {
   "codemirror_mode": {
    "name": "ipython",
    "version": 3
   },
   "file_extension": ".py",
   "mimetype": "text/x-python",
   "name": "python",
   "nbconvert_exporter": "python",
   "pygments_lexer": "ipython3",
   "version": "3.11.9"
  }
 },
 "nbformat": 4,
 "nbformat_minor": 2
}
