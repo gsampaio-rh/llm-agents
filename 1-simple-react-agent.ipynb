{
 "cells": [
  {
   "cell_type": "markdown",
   "metadata": {},
   "source": [
    "# Simple Langchain Agent"
   ]
  },
  {
   "cell_type": "markdown",
   "metadata": {},
   "source": [
    "This notebook demonstrates how to set up a simple Langchain agent using the `langchain` library, integrating the Ollama LLM model and a math tool for computation."
   ]
  },
  {
   "cell_type": "markdown",
   "metadata": {},
   "source": [
    "## Install necessary libraries\n",
    "\n",
    "To use this notebook, ensure you have the necessary libraries installed. You can install them using the following pip command:"
   ]
  },
  {
   "cell_type": "code",
   "execution_count": null,
   "metadata": {},
   "outputs": [],
   "source": [
    "# Install necessary libraries\n",
    "%pip install langchain huggingface_hub google-search-results tiktoken wikipedia langchain-ollama langchain-community numexpr pygments langchainhub langchain_experimental duckduckgo-search"
   ]
  },
  {
   "cell_type": "markdown",
   "metadata": {},
   "source": [
    "## Code\n",
    "\n",
    "### Import necessary modules\n",
    "\n",
    "First, import the required modules from `langchain` and `langchain_community`:"
   ]
  },
  {
   "cell_type": "code",
   "execution_count": 7,
   "metadata": {},
   "outputs": [],
   "source": [
    "from langchain_community.agent_toolkits.load_tools import load_tools\n",
    "from langchain.agents import initialize_agent\n",
    "from langchain_ollama.llms import OllamaLLM\n",
    "\n",
    "# Set up the Ollama LLM model, specifying the model type:\n",
    "llm = OllamaLLM(model=\"mistral\")\n",
    "\n",
    "# Load tools and create an agent\n",
    "# Use the load_tools function to load the necessary tools and initialize the agent:\n",
    "\n",
    "tools = load_tools([\"llm-math\"], llm=llm)\n",
    "\n",
    "agent = initialize_agent(\n",
    "    tools=tools,\n",
    "    llm=llm,\n",
    "    verbose=True,\n",
    "    agent=\"zero-shot-react-description\",\n",
    "    handle_parsing_errors=True\n",
    ")\n"
   ]
  },
  {
   "cell_type": "markdown",
   "metadata": {},
   "source": [
    "### Standard LLM Query with error handling for output parsing errors\n",
    "\n",
    "To query the agent and handle potential parsing errors, use the following structure:"
   ]
  },
  {
   "cell_type": "code",
   "execution_count": 8,
   "metadata": {},
   "outputs": [
    {
     "name": "stdout",
     "output_type": "stream",
     "text": [
      "\n",
      "\n",
      "\u001b[1m> Entering new AgentExecutor chain...\u001b[0m\n",
      "\u001b[32;1m\u001b[1;3m This question requires a multiplication operation. I will use the Calculator tool for this task.\n",
      "\n",
      "Action: Calculator\n",
      "Action Input: 5*5\u001b[0m\n",
      "Observation: \u001b[36;1m\u001b[1;3mAnswer: 25\u001b[0m\n",
      "Thought:\u001b[32;1m\u001b[1;3m I now know the final answer\n",
      "Final Answer: The product of 5 and 5 is 25.\u001b[0m\n",
      "\n",
      "\u001b[1m> Finished chain.\u001b[0m\n",
      "{'input': 'What is the 5*5?', 'output': 'The product of 5 and 5 is 25.'}\n"
     ]
    }
   ],
   "source": [
    "# Standard LLM Query with error handling for output parsing errors\n",
    "try:\n",
    "    response = agent.invoke(\"What is the 5*5?\", handle_parsing_errors=True)\n",
    "    print(response)\n",
    "except Exception as e:\n",
    "    print(f\"An error occurred: {e}\")"
   ]
  }
 ],
 "metadata": {
  "kernelspec": {
   "display_name": "Python 3",
   "language": "python",
   "name": "python3"
  },
  "language_info": {
   "codemirror_mode": {
    "name": "ipython",
    "version": 3
   },
   "file_extension": ".py",
   "mimetype": "text/x-python",
   "name": "python",
   "nbconvert_exporter": "python",
   "pygments_lexer": "ipython3",
   "version": "3.11.9"
  }
 },
 "nbformat": 4,
 "nbformat_minor": 2
}
